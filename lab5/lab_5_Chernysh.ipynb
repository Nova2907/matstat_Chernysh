{
 "cells": [
  {
   "cell_type": "markdown",
   "id": "bd9d0fd8-a9e8-4b02-aa97-428b25307be0",
   "metadata": {},
   "source": [
    "# Лабораторна робота №5. Алгоритми пошуку"
   ]
  },
  {
   "cell_type": "markdown",
   "id": "889cbdba-577c-4ec0-a8e6-a967086c4c0a",
   "metadata": {},
   "source": [
    "#### **Тема.** Алгоритми пошуку\n",
    "\n",
    "#### **Мета:** засвоїти варіанти реалізації алгоритмів пошуку засобами Python і методи оцінювання їх складності.\n",
    "\n",
    "Виконано: Черниш В'ячеслав, дата виконання 09.12.2024\n",
    "\n",
    "<h2 style=\"text-align: center;\">Хід роботи</h2>"
   ]
  },
  {
   "cell_type": "markdown",
   "id": "eca5f720-fa45-4b9c-b196-3bd23a2043d3",
   "metadata": {},
   "source": [
    "**Лінійний пошук. Стратегія «грубої сили»**"
   ]
  },
  {
   "cell_type": "code",
   "execution_count": 7,
   "id": "0bb1e207-d429-4594-807c-dfbce48a3510",
   "metadata": {},
   "outputs": [
    {
     "name": "stdin",
     "output_type": "stream",
     "text": [
      "Введіть шуканий елемент:  7\n"
     ]
    },
    {
     "name": "stdout",
     "output_type": "stream",
     "text": [
      "Елемент не знайдений! -1\n"
     ]
    }
   ],
   "source": [
    "# Якщо елемент не буде знайдено, виводиться -1\n",
    "def linear_search(a_list, x):\n",
    "    i, length = 0, len(a_list)\n",
    "    while i < length and x != a_list[i]:\n",
    "        i += 1\n",
    "    return i if i < length else -1\n",
    "\n",
    "# Тестування функції\n",
    "search_item = int(input(\"Введіть шуканий елемент: \"))\n",
    "a = [32, 1, 3, 4, 2, 1]\n",
    "result = linear_search(a, search_item)\n",
    "\n",
    "if result != -1:\n",
    "    print(f\"Елемент знайдений на індексі: {result}\")\n",
    "else:\n",
    "    print(\"Елемент не знайдений! -1\")\n"
   ]
  },
  {
   "cell_type": "markdown",
   "id": "9dd7fa14-c304-4897-b2f7-b52f911bb438",
   "metadata": {},
   "source": [
    "**Завдання для самостійної роботи:** оцінити асимптотичну складність\n",
    "алгоритму лінійного пошуку в О-нотації.\n",
    "\n",
    "Асимптотична складність алгоритму лінійного пошуку:\n",
    "\n",
    "Кращий випадок: O(1) - якщо елемент знаходиться на першій позиції\n",
    "\n",
    "Гірший і середній випадок:O(n) - якщо елемент відсутній або знаходиться в кінці масиву,де n - розмір масиву\n",
    "\n",
    "в загальному випадку складність лінійного пошуку — O(n).\n"
   ]
  },
  {
   "cell_type": "markdown",
   "id": "37bbc5de-f18d-4962-bb07-39070176fd28",
   "metadata": {},
   "source": [
    "**Пошук у відсортованому масиві. Бінарний пошук**"
   ]
  },
  {
   "cell_type": "code",
   "execution_count": 14,
   "id": "f6aea3a2-a1c1-4167-90f9-cc6b867cfc5a",
   "metadata": {},
   "outputs": [
    {
     "name": "stdin",
     "output_type": "stream",
     "text": [
      "Введіть шуканий елемент:  7\n"
     ]
    },
    {
     "name": "stdout",
     "output_type": "stream",
     "text": [
      "Елемент знайдений на індексі: 0\n"
     ]
    }
   ],
   "source": [
    "\n",
    "def bin_search(a_list, x, left, right):\n",
    "    if left > right or len(a_list) == 0:  \n",
    "        return -1\n",
    "    middle = (left + right) // 2  \n",
    "    if a_list[middle] == x:  \n",
    "        return middle\n",
    "    elif a_list[middle] < x:  \n",
    "        return bin_search(a_list, x, middle + 1, right)\n",
    "    else:  \n",
    "        return bin_search(a_list, x, left, middle - 1)\n",
    "\n",
    "a = list(range(7, 21))  \n",
    "\n",
    "search_item = int(input(\"Введіть шуканий елемент: \"))\n",
    "\n",
    "result = bin_search(a, search_item, 0, len(a) - 1)\n",
    "\n",
    "if result != -1:\n",
    "    print(f\"Елемент знайдений на індексі: {result}\")\n",
    "else:\n",
    "    print(\"Елемент не знайдений.\")\n"
   ]
  },
  {
   "cell_type": "markdown",
   "id": "0340b729-9388-482d-a85f-87220c041617",
   "metadata": {},
   "source": [
    "**Завдання для самостійної роботи:**\n",
    "\n",
    "1. *Оцінка асимптотичної складності алгоритму бінарного пошуку в О-нотації*\n",
    "\n",
    "Алгоритм бінарного пошуку працює за принципом поділу списку навпіл на кожному кроці, що дозволяє ефективно зменшувати розмір області пошуку в два рази.\n",
    "\n",
    "У кожному кроці алгоритм порівнює шуканий елемент з елементом на середині масиву та вирішує, чи продовжувати пошук у лівій, чи в правій частині.\n",
    "\n",
    "Розмір області пошуку зменшується вдвічі на кожній ітерації.\n",
    "\n",
    "Отже, часова складність бінарного пошуку в О-нотації є:\n",
    "\n",
    "$O(log n)$, де 𝑛 — кількість елементів у масиві.\n",
    "\n",
    "\n",
    "2. *Написати функцію, яка б могла повертати датафрейм з таким складом\n",
    "полів: («n», «time»), де n – розмір масиву для функції linear_searh();*"
   ]
  },
  {
   "cell_type": "code",
   "execution_count": 33,
   "id": "9e6a2738-4b24-4aef-b072-e46955f2bb06",
   "metadata": {},
   "outputs": [
    {
     "name": "stdout",
     "output_type": "stream",
     "text": [
      "          n      time\n",
      "0    600000  0.031860\n",
      "1    700000  0.034116\n",
      "2    900000  0.040583\n",
      "3   1200000  0.057950\n",
      "4  13000000  0.577345\n"
     ]
    }
   ],
   "source": [
    "import time\n",
    "import pandas as pd\n",
    "import random\n",
    "\n",
    "\n",
    "def linear_search(a_list, x):\n",
    "    i, length = 0, len(a_list)\n",
    "    while i < length and x != a_list[i]:\n",
    "        i += 1\n",
    "    return i if i < length else -1\n",
    "\n",
    "\n",
    "def linear_search_time(n_values):\n",
    "    times = []\n",
    "    for n in n_values:\n",
    "        a_list = random.sample(range(1, 10*n), n)  \n",
    "        start_time = time.time()\n",
    "        linear_search(a_list, -1)  \n",
    "        end_time = time.time()\n",
    "        times.append(end_time - start_time)  \n",
    "    return pd.DataFrame({'n': n_values, 'time': times})\n",
    "\n",
    "# Тестування функції\n",
    "n_values = [600000, 700000, 900000, 1200000, 13000000]  \n",
    "linear_df = linear_search_time(n_values)\n",
    "print(linear_df)\n"
   ]
  },
  {
   "cell_type": "markdown",
   "id": "0df728cf-ca73-4b94-b7d4-205e9adc1839",
   "metadata": {},
   "source": [
    "3. *Написати функцію, яка б могла повертати датафрейм з таким складом\n",
    "полів: («n», «time»), де n – розмір масиву для функції bin_searh();*"
   ]
  },
  {
   "cell_type": "code",
   "execution_count": 27,
   "id": "e220bb4b-3aeb-4dba-bd08-8d3b3dd0bbe7",
   "metadata": {},
   "outputs": [
    {
     "name": "stdout",
     "output_type": "stream",
     "text": [
      "          n      time\n",
      "0    600000  0.000000\n",
      "1    700000  0.000000\n",
      "2    900000  0.000000\n",
      "3   1200000  0.000000\n",
      "4  13000000  0.001002\n"
     ]
    }
   ],
   "source": [
    "\n",
    "def bin_search(a_list, x, left, right):\n",
    "    if left > right:\n",
    "        return -1\n",
    "    middle = (left + right) // 2\n",
    "    if a_list[middle] == x:\n",
    "        return middle\n",
    "    elif a_list[middle] < x:\n",
    "        return bin_search(a_list, x, middle + 1, right)\n",
    "    else:\n",
    "        return bin_search(a_list, x, left, middle - 1)\n",
    "\n",
    "\n",
    "def bin_search_time(n_values):\n",
    "    times = []\n",
    "    for n in n_values:\n",
    "        a_list = sorted(random.sample(range(1, 10*n), n))  \n",
    "        start_time = time.time()\n",
    "        bin_search(a_list, -1, 0, len(a_list) - 1)  \n",
    "        end_time = time.time()\n",
    "        times.append(end_time - start_time)  \n",
    "    return pd.DataFrame({'n': n_values, 'time': times})\n",
    "\n",
    "# Тестування функції\n",
    "bin_values = [600000, 700000, 900000, 1200000, 13000000]  \n",
    "bin_df = bin_search_time(bin_values)\n",
    "print(bin_df)\n"
   ]
  },
  {
   "cell_type": "markdown",
   "id": "3b928817-b9c0-4c1e-92f6-d6276f46c48a",
   "metadata": {},
   "source": [
    "4. *За результатами попередніх завдань побудувати графіки залежності часу\n",
    "виконання процедури пошуку від розміру масиву.*"
   ]
  },
  {
   "cell_type": "code",
   "execution_count": 32,
   "id": "230ab177-9e47-4578-8bb7-b107ee3bd506",
   "metadata": {},
   "outputs": [
    {
     "data": {
      "image/png": "[encoded data removed]",
      "text/plain": [
       "<Figure size 640x480 with 1 Axes>"
      ]
     },
     "metadata": {},
     "output_type": "display_data"
    }
   ],
   "source": [
    "import matplotlib.pyplot as plt\n",
    "\n",
    "# графіки\n",
    "def plot_time_comparison(linear_df, bin_df):\n",
    "    plt.plot(linear_df['n'], linear_df['time'], label='Лінійний пошук (O(n))', marker='o')\n",
    "    plt.plot(bin_df['n'], bin_df['time'], label='Бінарний пошук (O(log n))', marker='x')\n",
    "    \n",
    "    plt.xlabel('Розмір масиву (n)')\n",
    "    plt.ylabel('Час виконання (секунди)')\n",
    "    plt.title('Порівняння часу виконання  пошуку')\n",
    "    plt.legend()\n",
    "    plt.grid(True)\n",
    "    plt.show()\n",
    "\n",
    "#функції для графіка\n",
    "plot_time_comparison(linear_df, bin_df)\n"
   ]
  },
  {
   "cell_type": "markdown",
   "id": "cc8dd679-e096-4768-a04b-f6aa5138ee97",
   "metadata": {},
   "source": [
    "5. Оцінка ефективності алгоритмів\n",
    "Лінійний пошук має складність O(n), що означає, що час виконання зростає лінійно зі збільшенням розміру масиву.\n",
    "Бінарний пошук має складність O(log n), що означає, що час виконання зростає значно повільніше, навіть якщо розмір масиву збільшується в кілька разів.\n",
    "На графіку видно, що при великих розмірах масиву бінарний пошук працює значно швидше за лінійний пошук, і це показує перевагу бінарного пошуку при великих обсягах даних."
   ]
  },
  {
   "cell_type": "markdown",
   "id": "dc686778-3fc4-40d9-bba1-33ed52b468b3",
   "metadata": {},
   "source": [
    "# **Контрольні питання**"
   ]
  },
  {
   "cell_type": "markdown",
   "id": "f04cf0c0-5bb7-455d-aed3-8ed99bb8c8e4",
   "metadata": {},
   "source": [
    "1. **Сформулювати задачу пошуку.**\n",
    "   Умова: Дано масив цілих чисел. Потрібно знайти індекс заданого числа двома способами\n",
    "\n",
    "   Вхідний масив: [3, 6, 7, 8, 9, 11, 13, 21, 12]\n",
    "Шуканий елемент: 13"
   ]
  },
  {
   "cell_type": "code",
   "execution_count": 41,
   "id": "17a84a95-1ddf-4a89-88d4-34873ea7c7ed",
   "metadata": {},
   "outputs": [
    {
     "name": "stdout",
     "output_type": "stream",
     "text": [
      "Лінійний пошук: Елемент 13 знайдений на позиції 6\n",
      "Бінарний пошук (масив відсортовано): Елемент 13 знайдений на позиції 7\n"
     ]
    }
   ],
   "source": [
    "# Лінійний пошук\n",
    "def linear_search(a_list, x):\n",
    "    for i in range(len(a_list)):\n",
    "        if a_list[i] == x:\n",
    "            return i  # Повертаємо індекс елемента\n",
    "    return -1  # Повертаємо -1, якщо елемент не знайдений\n",
    "\n",
    "# Бінарний пошук\n",
    "def binary_search(a_list, x):\n",
    "    a_list = sorted(a_list)  # Сортуємо масив перед пошуком\n",
    "    left, right = 0, len(a_list) - 1\n",
    "    while left <= right:\n",
    "        mid = (left + right) // 2\n",
    "        if a_list[mid] == x:\n",
    "            return mid  # Повертаємо індекс елемента\n",
    "        elif a_list[mid] < x:\n",
    "            left = mid + 1\n",
    "        else:\n",
    "            right = mid - 1\n",
    "    return -1  # Повертаємо -1, якщо елемент не знайдений\n",
    "\n",
    "# Задача 1: Лінійний пошук\n",
    "a_list = [3, 6, 7, 8, 9, 11, 13, 21, 12]\n",
    "search_item = 13\n",
    "result_linear = linear_search(a_list, search_item)\n",
    "print(f\"Лінійний пошук: Елемент {search_item} знайдений на позиції {result_linear}\")\n",
    "\n",
    "# Задача 2: Бінарний пошук (масив спочатку сортується)\n",
    "a_list_unsorted = [3, 6, 7, 8, 9, 11, 13, 21, 12]\n",
    "search_item = 13\n",
    "result_binary = binary_search(a_list_unsorted, search_item)\n",
    "print(f\"Бінарний пошук (масив відсортовано): Елемент {search_item} знайдений на позиції {result_binary}\")\n"
   ]
  },
  {
   "cell_type": "markdown",
   "id": "663ee31f-9dfb-4fd8-8b67-41566608ed34",
   "metadata": {},
   "source": [
    "2. **Які критерії можна використовувати для оцінювання ефективності алгоритмів пошуку?\n",
    "Основні критерії для оцінювання ефективності алгоритмів пошуку:**\n",
    "\n",
    "Часова складність: Оцінка кількості операцій, які виконує алгоритм для пошуку елемента в залежності від розміру колекції даних.\n",
    "\n",
    "Просторова складність: Оцінка кількості пам'яті, яку алгоритм потребує для виконання.\n",
    "\n",
    "Точність: Чи знаходить алгоритм елемент, якщо він існує, та чи правильно повідомляє про його відсутність.\n",
    "\n",
    "Стабільність: Як алгоритм поводиться при наявності однакових елементів у колекції."
   ]
  },
  {
   "cell_type": "markdown",
   "id": "b3428a49-2646-4140-bb45-0028d9bd83fb",
   "metadata": {},
   "source": [
    "3. **Що таке лінійний пошук і яка його асимптотична складність?**\n",
    "   \n",
    "Лінійний пошук (або пошук методом перебору) полягає в тому, що елемент перевіряється по черзі, поки не буде знайдений або не закінчиться весь список.\n",
    "\n",
    "Асимптотична складність: O(n), де n — розмір масиву, оскільки у найгіршому випадку потрібно перевірити кожен елемент."
   ]
  },
  {
   "cell_type": "markdown",
   "id": "fc54892d-0c6b-4d27-bf83-e34e74d8943b",
   "metadata": {},
   "source": [
    "4. **Що таке бінарний (двійковий) пошук і в чому полягає його головний принцип роботи?\n",
    "Бінарний пошук — це алгоритм пошуку в відсортованому масиві, який працює за принципом поділу масиву на дві половини. Алгоритм порівнює шуканий елемент з елементом у середині масиву:**\n",
    "\n",
    "Якщо шукане значення менше за середній елемент, пошук продовжується в лівій половині.\n",
    "\n",
    "Якщо шукане значення більше — в правій половині. Цей процес повторюється, поки елемент не буде знайдений або кількість елементів не стане рівною нулю.\n",
    "\n",
    "Асимптотична складність: O(log n), де 𝑛 — розмір масиву."
   ]
  },
  {
   "cell_type": "markdown",
   "id": "79d6f58c-24cd-42dd-90a7-8bd80b8c3851",
   "metadata": {},
   "source": [
    "5. **Які переваги і недоліки використання бінарного пошуку порівняно з лінійним?**\n",
    "\n",
    "**Переваги бінарного пошуку:**\n",
    "\n",
    "Швидкість: *У відсортованому масиві бінарний пошук є значно швидшим за лінійний пошук, оскільки його складність — \n",
    "O(logn), а лінійного пошуку — O(n).*\n",
    "\n",
    "Ефективність: *для великих масивів, де час виконання критичний.*\n",
    "\n",
    "**Недоліки бінарного пошуку:**\n",
    "\n",
    "Потрібно відсортоване введення: *Для бінарного пошуку масив повинен бути відсортований, що додає додаткові витрати на сортування.*\n",
    "\n",
    "Складність реалізації: *Бінарний пошук складніший у реалізації, ніж лінійний пошук.*\n",
    "\n",
    "**Переваги лінійного пошуку:**\n",
    "\n",
    "Простота реалізації: *Лінійний пошук простий і не вимагає попереднього сортування масиву.*\n",
    "\n",
    "Підходить *для невеликих або не відсортованих масивів.*\n",
    "\n",
    "**Недоліки лінійного пошуку:**\n",
    "\n",
    "Повільний для великих масивів: *У найгіршому випадку лінійний пошук має складність \n",
    "O(n), що робить його менш ефективним для великих наборів даних.*\n",
    "\n",
    "6. **Які ще алгоритми пошуку існують, окрім лінійного і бінарного?**\n",
    "\n",
    "**Пошук за допомогою хешування:** Шукає елемент в хеш-таблиці, що дозволяє виконувати пошук за час O(1) в середньому випадку.\n",
    "\n",
    "**Алгоритм пошуку за допомогою дерев:** Пошук в структурах даних, таких як бінарне дерево пошуку (BST), де час виконання може бути O(logn), якщо дерево збалансоване.\n",
    "\n",
    "**Пошук у графах наприклад, пошук в ширину (BFS) або в глибину (DFS):** Використовується для пошуку елементів або шляху в графах."
   ]
  },
  {
   "cell_type": "code",
   "execution_count": null,
   "id": "dc9e1639-0d7e-4849-af10-9ce6c2877ea5",
   "metadata": {},
   "outputs": [],
   "source": []
  }
 ],
 "metadata": {
  "kernelspec": {
   "display_name": "Python 3 (ipykernel)",
   "language": "python",
   "name": "python3"
  },
  "language_info": {
   "codemirror_mode": {
    "name": "ipython",
    "version": 3
   },
   "file_extension": ".py",
   "mimetype": "text/x-python",
   "name": "python",
   "nbconvert_exporter": "python",
   "pygments_lexer": "ipython3",
   "version": "3.12.7"
  }
 },
 "nbformat": 4,
 "nbformat_minor": 5
}
